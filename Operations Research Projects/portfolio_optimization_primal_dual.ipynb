{
 "cells": [
  {
   "cell_type": "markdown",
   "metadata": {},
   "source": [
    "$  % These are commands to simply writing vectors in bold. \n",
    "   \\newcommand{\\RR}{\\mathbb{R}}\n",
    "   \\newcommand{\\R}{\\mathbb{R}}\n",
    "   \\newcommand{\\B}[2][\\varepsilon]{ B_{#1} \\left( #2 \\right) }\n",
    "   \\newcommand{\\vec}[1]{ \\boldsymbol{\\mathbf{#1}} }\n",
    "   \\newcommand{\\Z}{\\mathbb{Z}}\n",
    "   \\newcommand{\\C}{\\mathbb{C}}\n",
    "   \\newcommand{\\tr}[1]{\\mathrm{tr}\\left( #1 \\right)}\n",
    "   \\newcommand{\\ran}{\\mathrm{ran}}\n",
    "   \\newcommand{\\MC}[1]{\\mathcal{M}_{#1}\\left(\\mathbb{C}\\right)}\n",
    "   \\newcommand{\\MR}[1]{\\mathcal{M}_{#1}\\left(\\mathbb{R}\\right)}\n",
    "   \\newcommand{\\bkt}[1]{\\left\\langle #1 \\right\\rangle}\n",
    "   \\newcommand{\\brc}[1]{\\left\\lbrace #1 \\right\\rbrace}\n",
    "   \\newcommand{\\set}[2]{\\left\\lbrace #1 \\middle\\vert #2 \\right\\rbrace}\n",
    "   \\newcommand{\\sfrac}[2]{\\mathstrut^{#1}/_{#2}}\n",
    "   \\newcommand{\\ra}{\\rightarrow}\n",
    "   \\newcommand{\\hip}[2]{\\left\\langle {#1},{#2} \\right\\rangle}\n",
    "   \\newcommand{\\norm}[1]{\\left\\Vert {#1} \\right\\Vert}\n",
    "   \\newcommand{\\hnorm}[1]{\\left\\Vert {#1} \\right\\Vert_2}\n",
    "   \\DeclareMathOperator*{\\argmax}{argmax} % thin space, limits underneath in displays\n",
    "   \\DeclareMathOperator*{\\argmin}{argmin} % no space, limits underneath in displays\n",
    "$    \n",
    "\n",
    "<h2 align = 'center'> Fall 2023: Operations Research </h2>\n",
    "<h3 align = 'center'>  Noah Borquaye</h3>\n",
    "<h4 align = 'center'>  Portfolio Optimization Problem</h4>\n",
    "<p>&nbsp;</p>\n",
    "\n",
    "\n",
    "\n",
    "\n",
    "\n",
    "\n",
    "\n",
    "First, we load some packages and do some configuration:"
   ]
  },
  {
   "cell_type": "code",
   "execution_count": 25,
   "metadata": {},
   "outputs": [
    {
     "data": {
      "text/markdown": [
       "The following commands are now available\n",
       "\n",
       "* __add_method__ = adds a method to an instance of any class\n",
       "* __var__ = creates a variable for creating Tableaus\n",
       "* __param__ = creates a parameter for creating Tableaus\n",
       "* __Vars__ = creates var objects from a list or string\n",
       "* __Params__ = creates param objects from a list or structure\n",
       "* __LinearExpression__ = class for expressions for linear programs\n",
       "* __LinearRelation__ = class for equations and inequalities\n",
       "* __GaussPivot__ = Gaussian Row Operations pivot for a pandas DataFrame\n",
       "* __Tableau__ = Maps linear program as dictionary to DataFrame with GaussPivot\n",
       "\n",
       "Also, the following helper methods are available:\n",
       "* __BasicSolution__ = prints basic solution for a given tableau\n",
       "* __OrderBasis__ = Arranges the simplex tableau into [I,M] form, where I is the identity matrix and M is what is left over\n",
       "* __Simplex__ = Create simplex Tableau for a linear program, adding slack or surplus variables if necessary.  The solve method only implements maximization. \n",
       "\n",
       "NOTE: __GaussPivot__ can be applied directly to any DataFrame\n"
      ],
      "text/plain": [
       "<IPython.core.display.Markdown object>"
      ]
     },
     "metadata": {},
     "output_type": "display_data"
    },
    {
     "data": {
      "text/plain": [
       "<Figure size 640x480 with 0 Axes>"
      ]
     },
     "metadata": {},
     "output_type": "display_data"
    }
   ],
   "source": [
    "%matplotlib inline \n",
    "from matplotlib import pyplot as plt\n",
    "import numpy as np \n",
    "%precision 9\n",
    "\n",
    "from pandas import DataFrame\n",
    "import warnings\n",
    "warnings.simplefilter('ignore')\n",
    "\n",
    "%run -i SimplexTools.py"
   ]
  },
  {
   "cell_type": "code",
   "execution_count": null,
   "metadata": {},
   "outputs": [],
   "source": []
  },
  {
   "cell_type": "markdown",
   "metadata": {},
   "source": [
    "## __Scenerio__\n",
    "\n",
    "__1.__ Obtain and solve the following as the _Primal_ program: \n",
    "> A funds manager receives \\\\$100,000 from a\n",
    "new client for the purchase of stocks and is required to choose between blue\n",
    "chip stocks (BLUE), tech stocks(TECH), and high risk/high yield stocks\n",
    "(HRHY). The expected rate of return on BLUE is \\\\$1 per share, the rate of\n",
    "return on TECH is \\\\$2 per share, and the rate of return on HRHY is \\\\$15 per\n",
    "share. Brokerage house rules require thatBrokerage house rules require that<br/>\n",
    "&nbsp;&nbsp;&nbsp;&nbsp;   a. The fund manager is to purchase no more than 2,500 shares <br/>\n",
    "&nbsp;&nbsp;&nbsp;&nbsp;   b. The amount of BLUE stocks purchased exceeds the total of the other stocks purchased <br/>\n",
    "&nbsp;&nbsp;&nbsp;&nbsp;   c.  The total of HRHY stocks purchased never exceeds 10 percent of the BLUE stocks purchased<br/>\n",
    "If the cost of BLUE stocks is \\\\$100 per share, the cost of TECH stocks is\n",
    "\\\\$60 per share, and the cost of HRHY stocks is \\\\$40 per share, then how many\n",
    "shares of each should the fund manager purchase in order to maximize the\n",
    "expected return on investment. \n",
    "\n",
    "Obtain the dual program, solve using the method of your choice, and explain what the dual program means (interpret the variables and constraints). Then find the shadow prices and explain what they mean. In particular, interpret each shadow price as the \"price\" for increasing the availability of a resource by one unit."
   ]
  },
  {
   "cell_type": "markdown",
   "metadata": {},
   "source": [
    "### Solution"
   ]
  },
  {
   "cell_type": "markdown",
   "metadata": {},
   "source": [
    "__Decision Variables__:\n",
    "\n",
    "\n",
    "Let $x_1$ be the number of BLUE stocks purchased.\\\n",
    "Let $x_2$ be the number of TECH stocks purchased.\\\n",
    "Let $x_3$ be the number of HRHY stocks purchased.\n",
    "\n",
    "We aim to maximize the expected return on investment:\\\n",
    "__Maximize:__ $x_1 + 2x_2 + 15x_3$\n",
    "\n",
    "__Subject to the constraints:__\n",
    "\n",
    "1. The fund manager is to purchase no more than 2,500 shares:\\\n",
    "$x_1 + x_2 + x_3 \\leq 2500$\n",
    "\n",
    "2. The amount of BLUE stocks purchased exceeds the total of the other stocks purchased:\\\n",
    "$x_1 \\geq x_2 + x_3$\n",
    "\n",
    "3. The total of HRHY stocks purchased never exceeds 10 percent of the BLUE stocks purchased:\\\n",
    "$x_3 \\leq 0.1x_1$\n",
    "\n",
    "4. To maximize expected returns, we must also take into account the cost of the stocks. BLUE stocks is $\\$100$ per share, the cost of TECH stocks is $\\$60$ per share, and the cost of HRHY stocks is $\\$40$ per share and funds manager receives $\\$100,000$ from a new client for the purchase of stocks:\\\n",
    "$100x_1 + 60x_2 + 40x_3 \\leq 100000$\n",
    "\n",
    "Finally, since the number of shares cannot be negative, we need to consider the non-negativity constraints:\\\n",
    "$x_1 \\geq 0$, $x_2 \\geq  0$, $x_3 \\geq 0$\n",
    "\n",
    "\n",
    "\n",
    "\n",
    "__The Primal program is:__\n",
    "\n",
    "\n",
    "$$\\begin{array}{ll}\n",
    "maximize & z=x_1 + 2x_2 + 15x_3 \\\\ \n",
    "subject \\; to \\; & x_1 + x_2 + x_3 &\\leq 2500 \\\\ \n",
    "\\; & 100x_1 + 60x_2 + 40x_3 &\\leq 100000 \\\\ \n",
    "\\; & -x_1+x_2 + x_3 &\\leq 0  \\\\ \n",
    "\\; & -0.1x_1+ x_3 & \\leq 0 \\\\\n",
    "& x_1\\geq 0,x_2\\geq 0, x_3\\geq 0\n",
    "\\end{array}\n",
    "$$\n",
    "\n",
    "\n",
    "Solving using __glpk__"
   ]
  },
  {
   "cell_type": "code",
   "execution_count": 26,
   "metadata": {},
   "outputs": [
    {
     "name": "stdout",
     "output_type": "stream",
     "text": [
      "GLPSOL: GLPK LP/MIP Solver, v4.65\n",
      "Parameter(s) specified in the command line:\n",
      " -m /dev/stdin\n",
      "Reading model section from /dev/stdin...\n",
      "20 lines were read\n",
      "Generating z...\n",
      "Generating constraint1...\n",
      "Generating constraint2...\n",
      "Generating constraint3...\n",
      "Generating constraint4...\n",
      "Model has been successfully generated\n",
      "GLPK Simplex Optimizer, v4.65\n",
      "5 rows, 3 columns, 14 non-zeros\n",
      "Preprocessing...\n",
      "4 rows, 3 columns, 11 non-zeros\n",
      "Scaling...\n",
      " A: min|aij| =  1.000e-01  max|aij| =  1.000e+02  ratio =  1.000e+03\n",
      "GM: min|aij| =  4.472e-01  max|aij| =  2.236e+00  ratio =  5.000e+00\n",
      "EQ: min|aij| =  2.000e-01  max|aij| =  1.000e+00  ratio =  5.000e+00\n",
      "Constructing initial basis...\n",
      "Size of triangular part is 4\n",
      "*     0: obj =  -0.000000000e+00 inf =   0.000e+00 (3)\n",
      "*     3: obj =   2.721518987e+03 inf =   0.000e+00 (0)\n",
      "OPTIMAL LP SOLUTION FOUND\n",
      "Time used:   0.0 secs\n",
      "Memory used: 0.1 Mb (102371 bytes)\n",
      "Display statement at line 18\n",
      "x_1.val = 632.911392405063\n",
      "x_2.val = 569.620253164557\n",
      "x_3.val = 63.2911392405063\n",
      "z.val = 2721.51898734177\n",
      "Model has been successfully processed\n"
     ]
    }
   ],
   "source": [
    "%%script glpsol -m /dev/stdin\n",
    "\n",
    "# declare problem variables\n",
    "var x_1 >= 0;  # we can define properties for\n",
    "var x_2 >= 0 ;  # the variables as we define them\n",
    "var x_3 >= 0;\n",
    "# declare the objective \n",
    "maximize z: x_1 + 2*x_2 + 15*x_3;       ## DON'T FORGET THOSE SEMICOLONS!!!!! \n",
    "\n",
    "# subject to the constraints\n",
    "s.t.    constraint1:    x_1 + x_2 +x_3  <=  2500;\n",
    "        constraint2:    100*x_1 + 60*x_2 +40*x_3  <=  100000;\n",
    "        constraint3:    -1*x_1+x_2 + x_3 <= 0; \n",
    "        constraint4:    -0.1*x_1+ x_3 <= 0; \n",
    "\n",
    "solve;\n",
    "\n",
    "# display results\n",
    "display x_1, x_2,x_3, z;\n",
    "\n",
    "end;"
   ]
  },
  {
   "cell_type": "markdown",
   "metadata": {},
   "source": [
    "\n",
    "\n",
    "\n",
    "\n",
    "\n",
    "\\\n",
    "The solution to the primal program is $z^* = 2721.518$ and $(x_1^*,x_2^*,x_3^*) = (632.91, 569.62,  63.29 )$\n",
    "\n",
    "Thus to maximize the expected return on investment, the fund manager should purchase $632.91$units of BLUE stocks, $569.62$units of TECH stocks and $63.29$units of HRHY stocks."
   ]
  },
  {
   "cell_type": "markdown",
   "metadata": {},
   "source": [
    "__The Dual program is__ \n",
    "\n",
    "$$\\begin{array}{ll}\n",
    "minimize \\; & z = 2500y_1 + 100000y_2 + 0y_3 + 0y_4 \\\\ \n",
    "subject \\; to \\; & y_1 + 100y_2 - y_3 - 0.1y_4 \\geq 1 \\\\ \n",
    "\\;  & y_1 + 60y_2 + y_3 \\geq 2  \\\\ \n",
    "\\;  & y_1 + 40y_2 + y_3 + y_4\\geq 15  \\\\ \n",
    "\\;  & y_1\\geq 0,y_2\\geq 0, y_3\\geq 0, y_4\\geq 0\n",
    "\\end{array}\n",
    "$$\n",
    "\n",
    "\n",
    "\n",
    "Solving using __glpk__\n",
    "\n"
   ]
  },
  {
   "cell_type": "code",
   "execution_count": 1,
   "metadata": {},
   "outputs": [
    {
     "name": "stdout",
     "output_type": "stream",
     "text": [
      "GLPSOL: GLPK LP/MIP Solver, v4.65\n",
      "Parameter(s) specified in the command line:\n",
      " -m /dev/stdin\n",
      "Reading model section from /dev/stdin...\n",
      "20 lines were read\n",
      "Generating z...\n",
      "Generating constraint1...\n",
      "Generating constraint2...\n",
      "Generating constraint3...\n",
      "Model has been successfully generated\n",
      "GLPK Simplex Optimizer, v4.65\n",
      "4 rows, 4 columns, 13 non-zeros\n",
      "Preprocessing...\n",
      "3 rows, 4 columns, 11 non-zeros\n",
      "Scaling...\n",
      " A: min|aij| =  1.000e-01  max|aij| =  1.000e+02  ratio =  1.000e+03\n",
      "GM: min|aij| =  4.472e-01  max|aij| =  2.236e+00  ratio =  5.000e+00\n",
      "EQ: min|aij| =  2.000e-01  max|aij| =  1.000e+00  ratio =  5.000e+00\n",
      "Constructing initial basis...\n",
      "Size of triangular part is 3\n",
      "      0: obj =   0.000000000e+00 inf =   7.376e+00 (3)\n",
      "      3: obj =   2.721518987e+03 inf =   0.000e+00 (0)\n",
      "OPTIMAL LP SOLUTION FOUND\n",
      "Time used:   0.0 secs\n",
      "Memory used: 0.1 Mb (118423 bytes)\n",
      "Display statement at line 18\n",
      "y[4].val = 13.5443037974684\n",
      "y[3].val = 0.367088607594937\n",
      "y[2].val = 0.0272151898734177\n",
      "y[1].val = 0\n",
      "z.val = 2721.51898734177\n",
      "Model has been successfully processed\n"
     ]
    }
   ],
   "source": [
    "%%script glpsol -m /dev/stdin\n",
    "\n",
    "# declare problem variables\n",
    "set I := 1..4;\n",
    "var y{I} >= 0 ; \n",
    "\n",
    "# declare the objective \n",
    "minimize z: 2500*y[1] + 100000*y[2] + 0*y[3] + 0*y[4];  \n",
    "\n",
    "# subject to the constraints\n",
    "s.t.    constraint1:  y[1] + 100*y[2] - y[3] - 0.1*y[4] >= 1;\n",
    "        constraint2:  y[1] + 60*y[2] + y[3] >= 2;\n",
    "        constraint3:  y[1] + 40*y[2] + y[3] + y[4] >= 15;\n",
    "\n",
    "# solve\n",
    "solve;\n",
    "\n",
    "# display results\n",
    "display y,z;\n",
    "\n",
    "end;"
   ]
  },
  {
   "cell_type": "markdown",
   "metadata": {},
   "source": [
    "\n",
    "\n",
    "\n",
    "\n",
    "\n",
    "\n",
    "\\\n",
    "We interprete the variables in the dual program as follows:\\\n",
    "Let $y_1$ denotes the total number of shares the fund manager can purchase.\\\n",
    "$~ ~~~~y_2$ denotes the total fund received from the client.\\\n",
    "$~~~~~y_3$ and $y_4$ both represent the constriants for the relationship between different shares.\n",
    "\n",
    "The dual program yields\\\n",
    "$ z^*  = 2721.52$, which is optimal from first part of the problem.\\\n",
    "$ y_1^* = 0, y_2^* =0.03 , y_3^* =0.37 , y_4^*= 13.54  $\n",
    "\n",
    "\n",
    "\n",
    "The shadow prices that optimize investment returns are\\\n",
    "$y_1 = 0.$ This means when the total number of shares is increased by 1 unit from 2500, the total return on investment does not increase.\\\n",
    "$y_2 = 0.03$ This means an increase in the available fund from $\\$100000$ by one unit will lead to $\\$0.03$ (3 cents) \n",
    "              increase in return on the investment.\\\n",
    "$ y_3 = 0.37, y_4 = 13.54$ are with zero resources and therefore have no effect on the investment returns.\n",
    "\n"
   ]
  }
 ],
 "metadata": {
  "kernelspec": {
   "display_name": "anaconda-panel-2023.05-py310",
   "language": "python",
   "name": "conda-env-anaconda-panel-2023.05-py310-py"
  },
  "language_info": {
   "codemirror_mode": {
    "name": "ipython",
    "version": 3
   },
   "file_extension": ".py",
   "mimetype": "text/x-python",
   "name": "python",
   "nbconvert_exporter": "python",
   "pygments_lexer": "ipython3",
   "version": "3.11.5"
  }
 },
 "nbformat": 4,
 "nbformat_minor": 4
}
